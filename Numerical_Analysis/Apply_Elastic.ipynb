{
 "cells": [
  {
   "cell_type": "code",
   "execution_count": 2,
   "id": "5d17cbbe-6400-4bab-87fa-20116c984446",
   "metadata": {},
   "outputs": [
    {
     "name": "stdout",
     "output_type": "stream",
     "text": [
      "stress: 200000000.00 Pa\n"
     ]
    }
   ],
   "source": [
    "def calculate_stress_youngs_modulus(E, delta_L, L0):\n",
    "    \"\"\"\n",
    "    영률을 활용한 탄성 응력 계산\n",
    "\n",
    "    Parameters:\n",
    "    - E (float): Young's Modulus (Pa)\n",
    "    - delta_L (float): 변형 길이 (m)\n",
    "    - L0 (float): 원래 길이 (m)\n",
    "\n",
    "    Returns:\n",
    "    - stress (float): 계산된 응력 (Pa)\n",
    "    \"\"\"\n",
    "    if L0 == 0:\n",
    "        raise ValueError(\"원래 길이 L0는 0이 될 수 없습니다.\")\n",
    "    \n",
    "    strain = delta_L / L0\n",
    "    stress = E * strain\n",
    "    return stress\n",
    "\n",
    "# 예시 값\n",
    "youngs_modulus_steel = 200e9  # 316 Stainless Steel\n",
    "delta_length = 0.001  # 1 mm 변형\n",
    "original_length = 1.0  # 1 m\n",
    "\n",
    "stress = calculate_stress_youngs_modulus(youngs_modulus_steel, delta_length, original_length)\n",
    "print(f\"stress: {stress:.2f} Pa\")"
   ]
  },
  {
   "cell_type": "code",
   "execution_count": 6,
   "id": "02bfa553-de3f-4c57-bfe5-b6da38607fb2",
   "metadata": {},
   "outputs": [
    {
     "name": "stdout",
     "output_type": "stream",
     "text": [
      "strain: 0.001 Pa\n"
     ]
    }
   ],
   "source": [
    "def calculate_strain_youngs_modulus(E, stress):\n",
    "    \"\"\"\n",
    "    영률을 활용한 탄성 응력 계산\n",
    "\n",
    "    Parameters:\n",
    "    - E (float): Young's Modulus (Pa)\n",
    "    - delta_L (float): 변형 길이 (m)\n",
    "    - L0 (float): 원래 길이 (m)\n",
    "\n",
    "    Returns:\n",
    "    - stress (float): 계산된 응력 (Pa)\n",
    "    \"\"\"\n",
    "    if stress == 0:\n",
    "        raise ValueError(\"원래 stress는 0이 될 수 없습니다.\")\n",
    "    \n",
    "    strain = stress / E\n",
    "    return strain\n",
    "\n",
    "# 예시 값\n",
    "youngs_modulus_steel = 200e9  # 316 Stainless Steel\n",
    "measured_stress = 200000000.00\n",
    "\n",
    "strain = calculate_strain_youngs_modulus(youngs_modulus_steel, measured_stress)\n",
    "print(f\"strain: {strain:.3f} Pa\")"
   ]
  },
  {
   "cell_type": "code",
   "execution_count": null,
   "id": "0622b5c8-983d-4433-8731-2d9da4bf7afc",
   "metadata": {},
   "outputs": [],
   "source": []
  }
 ],
 "metadata": {
  "kernelspec": {
   "display_name": "Python 3 (ipykernel)",
   "language": "python",
   "name": "python3"
  },
  "language_info": {
   "codemirror_mode": {
    "name": "ipython",
    "version": 3
   },
   "file_extension": ".py",
   "mimetype": "text/x-python",
   "name": "python",
   "nbconvert_exporter": "python",
   "pygments_lexer": "ipython3",
   "version": "3.12.4"
  }
 },
 "nbformat": 4,
 "nbformat_minor": 5
}

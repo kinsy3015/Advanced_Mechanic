def calculate_stress_youngs_modulus(E, delta_L, L0):
    """
    영률을 활용한 탄성 응력 계산

    Parameters:
    - E (float): Young's Modulus (Pa)
    - delta_L (float): 변형 길이 (m)
    - L0 (float): 원래 길이 (m)

    Returns:
    - stress (float): 계산된 응력 (Pa)
    """
    if L0 == 0:
        raise ValueError("원래 길이 L0는 0이 될 수 없습니다.")
    
    strain = delta_L / L0
    stress = E * strain
    return stress

# 예시 값
youngs_modulus_steel = 200e9  # 316 Stainless Steel
delta_length = 0.001  # 1 mm 변형
original_length = 1.0  # 1 m

stress = calculate_stress_youngs_modulus(youngs_modulus_steel, delta_length, original_length)
print(f"stress: {stress:.2f} Pa")


def calculate_strain_youngs_modulus(E, stress):
    """
    영률을 활용한 탄성 응력 계산

    Parameters:
    - E (float): Young's Modulus (Pa)
    - delta_L (float): 변형 길이 (m)
    - L0 (float): 원래 길이 (m)

    Returns:
    - stress (float): 계산된 응력 (Pa)
    """
    if stress == 0:
        raise ValueError("원래 stress는 0이 될 수 없습니다.")
    
    strain = stress / E
    return strain

# 예시 값
youngs_modulus_steel = 200e9  # 316 Stainless Steel
measured_stress = 200000000.00

strain = calculate_strain_youngs_modulus(youngs_modulus_steel, measured_stress)
print(f"strain: {strain:.3f} Pa")



